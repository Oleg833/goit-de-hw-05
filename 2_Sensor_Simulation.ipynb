{
 "cells": [
  {
   "cell_type": "code",
   "execution_count": null,
   "metadata": {},
   "outputs": [
    {
     "name": "stdout",
     "output_type": "stream",
     "text": [
      "Відправлено дані: {'sensor_id': '1378daa9-7bdd-47ab-b653-8c912ab758a8', 'timestamp': '2024-11-20T20:40:04.892139', 'temperature': 25.59, 'humidity': 39.49}\n",
      "Відправлено дані: {'sensor_id': '1378daa9-7bdd-47ab-b653-8c912ab758a8', 'timestamp': '2024-11-20T20:40:10.473356', 'temperature': 17.5, 'humidity': 53.65}\n",
      "Завершення роботи скрипту...\n"
     ]
    }
   ],
   "source": [
    "import time\n",
    "import random\n",
    "import json\n",
    "import uuid\n",
    "from kafka import KafkaProducer\n",
    "from datetime import datetime\n",
    "\n",
    "# Налаштування Kafka\n",
    "kafka_config = {\n",
    "    \"bootstrap_servers\": [\"77.81.230.104:9092\"],\n",
    "    \"username\": \"admin\",\n",
    "    \"password\": \"VawEzo1ikLtrA8Ug8THa\",\n",
    "    \"security_protocol\": \"SASL_PLAINTEXT\",\n",
    "    \"sasl_mechanism\": \"PLAIN\",\n",
    "}\n",
    "\n",
    "# Назва топіку\n",
    "my_name = \"oleh3\"\n",
    "TOPIC = f\"building_sensors_{my_name}\"\n",
    "\n",
    "# Ініціалізація продюсера Kafka\n",
    "producer = KafkaProducer(\n",
    "    bootstrap_servers=kafka_config[\"bootstrap_servers\"],\n",
    "    security_protocol=kafka_config[\"security_protocol\"],\n",
    "    sasl_mechanism=kafka_config[\"sasl_mechanism\"],\n",
    "    sasl_plain_username=kafka_config[\"username\"],\n",
    "    sasl_plain_password=kafka_config[\"password\"],\n",
    "    value_serializer=lambda v: json.dumps(v).encode(\"utf-8\"),\n",
    ")\n",
    "\n",
    "# Випадковий ID датчика для одного запуску скрипту\n",
    "sensor_id = str(uuid.uuid4())\n",
    "\n",
    "try:\n",
    "    while True:\n",
    "        # Генерація випадкових даних температури та вологості\n",
    "        temperature = round(\n",
    "            random.uniform(15.0, 30.0), 2\n",
    "        )  # Температура в межах 15-30 °C\n",
    "        humidity = round(random.uniform(30.0, 70.0), 2)  # Вологість в межах 30-70 %\n",
    "        timestamp = datetime.now(datetime.timezone.utc).isoformat()\n",
    "\n",
    "        # Формування повідомлення\n",
    "        data = {\n",
    "            \"sensor_id\": sensor_id,\n",
    "            \"timestamp\": timestamp,\n",
    "            \"temperature\": temperature,\n",
    "            \"humidity\": humidity,\n",
    "        }\n",
    "\n",
    "        # Відправка даних до топіку Kafka\n",
    "        producer.send(TOPIC, value=data)\n",
    "        print(f\"Відправлено дані: {data}\")\n",
    "\n",
    "        # Затримка перед наступним повідомленням\n",
    "        time.sleep(5)\n",
    "\n",
    "except KeyboardInterrupt:\n",
    "    print(\"Завершення роботи скрипту...\")\n",
    "finally:\n",
    "    producer.close()"
   ]
  }
 ],
 "metadata": {
  "kernelspec": {
   "display_name": ".venv",
   "language": "python",
   "name": "python3"
  },
  "language_info": {
   "codemirror_mode": {
    "name": "ipython",
    "version": 3
   },
   "file_extension": ".py",
   "mimetype": "text/x-python",
   "name": "python",
   "nbconvert_exporter": "python",
   "pygments_lexer": "ipython3",
   "version": "3.11.9"
  }
 },
 "nbformat": 4,
 "nbformat_minor": 2
}
