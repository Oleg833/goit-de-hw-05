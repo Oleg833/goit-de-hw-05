{
 "cells": [
  {
   "cell_type": "code",
   "execution_count": null,
   "metadata": {},
   "outputs": [
    {
     "name": "stdout",
     "output_type": "stream",
     "text": [
      "Сталася помилка: [Error 36] TopicAlreadyExistsError: Request 'CreateTopicsRequest_v3(create_topic_requests=[(topic='building_sensors_oleh3', num_partitions=3, replication_factor=1, replica_assignment=[], configs=[]), (topic='temperature_alerts_oleh3', num_partitions=2, replication_factor=1, replica_assignment=[], configs=[]), (topic='humidity_alerts_oleh3', num_partitions=2, replication_factor=1, replica_assignment=[], configs=[])], timeout=30000, validate_only=False)' failed with response 'CreateTopicsResponse_v3(throttle_time_ms=0, topic_errors=[(topic='building_sensors_oleh3', error_code=36, error_message=\"Topic 'building_sensors_oleh3' already exists.\"), (topic='temperature_alerts_oleh3', error_code=36, error_message=\"Topic 'temperature_alerts_oleh3' already exists.\"), (topic='humidity_alerts_oleh3', error_code=36, error_message=\"Topic 'humidity_alerts_oleh3' already exists.\")])'.\n",
      "['artur_home_humidity_alerts', 'building_sensors', 'oleksiy7_topic_1', 'artur_home_building_sensors', 'temperature_alerts_oleh', 'athlete_enriched_agg', 'humidity_alerts_oleh3', 'lesia999_humidity_alerts', 'oleksiy58_topic_1', 'veronika2_topic_1', 'sensor_alerts', 'Artur_topic_1_group', 'oleksiy_topic_1', 'oleksiy123_topic_1', 'lesiaukr_humidity_alerts', 'oleksiy57_topic_1', 'my_new_topic', 'artur_temperature_alerts', 'oleksandratk_temperature_alerts', 'lesia123_building_sensors', 'lesia_building_sensors', 'lesia999_building_sensors', 'oleksandratk_humidity_alerts', 'my_topic_1', 'building_sensors_oleksiy', 'building_sensors_oleh3', 'building_sensors_yevhenii_mentor', 'oleksandra-topic-1', 'oleksiy56_topic_1', 'avg_alerts', 'lesia999_temperature_alerts', 'veronika_topic_1', 'shop_123', '__consumer_offsets', 'lesia_topic_1', 'humidity_alerts_oleksiy', 'humidity_alerts_oleh', 'oleksiy55_topic_1', 'oleksiy_spark_streaming_in', 'temperature_alerts', 'building_sensors_oleh', 'lesia_humidity_alerts', 'temperature_alerts_oleh3', 'oleksiy_spark_streaming_out', 'humidity_alerts', 'lesia_temperature_alerts', 'artur_humidity_alerts', 'oleksandratk_building_sensors', 'lesia123_temperature_alerts', 'oleksiy67_topic_1', 'veronika1_topic_1', 'test_topic', 'Artur_test_group_topic_1', 'lesia123_humidity_alerts', 'Alex_topic_1', 'artur_topic_1', 'Artur_topic_1', 'lesiaukr_temperature_alerts', 'lesiaukr_building_sensors', 'artur_home_temperature_alerts', 'temperature_alerts_oleksiy', 'athlete_event_results']\n"
     ]
    }
   ],
   "source": [
    "from kafka.admin import KafkaAdminClient, NewTopic\n",
    "from configs import kafka_config\n",
    "\n",
    "# Створення клієнта Kafka\n",
    "admin_client = KafkaAdminClient(\n",
    "    bootstrap_servers=kafka_config[\"bootstrap_servers\"],\n",
    "    security_protocol=kafka_config[\"security_protocol\"],\n",
    "    sasl_mechanism=kafka_config[\"sasl_mechanism\"],\n",
    "    sasl_plain_username=kafka_config[\"username\"],\n",
    "    sasl_plain_password=kafka_config[\"password\"],\n",
    ")\n",
    "\n",
    "# Визначення нових топіків\n",
    "my_name = \"oleh3\"\n",
    "# name = f\"building_sensors_{my_name}\"\n",
    "\n",
    "building_sensors_topic = NewTopic(\n",
    "    name=f\"building_sensors_{my_name}\", num_partitions=3, replication_factor=1\n",
    ")\n",
    "temperature_alerts_topic = NewTopic(\n",
    "    name=f\"temperature_alerts_{my_name}\", num_partitions=2, replication_factor=1\n",
    ")\n",
    "humidity_alerts_topic = NewTopic(\n",
    "    name=f\"humidity_alerts_{my_name}\", num_partitions=2, replication_factor=1\n",
    ")\n",
    "\n",
    "# Створення нових топіків\n",
    "try:\n",
    "    admin_client.create_topics(\n",
    "        new_topics=[\n",
    "            building_sensors_topic,\n",
    "            temperature_alerts_topic,\n",
    "            humidity_alerts_topic,\n",
    "        ],\n",
    "        validate_only=False,\n",
    "    )\n",
    "    print(\n",
    "        \"Топіки 'building_sensors', 'temperature_alerts', 'humidity_alerts' створені успішно.\"\n",
    "    )\n",
    "except Exception as e:\n",
    "    print(f\"Сталася помилка: {e}\")\n",
    "\n",
    "# Перевіряємо список існуючих топіків\n",
    "print(admin_client.list_topics())\n",
    "\n",
    "# Закриття зв'язку з клієнтом\n",
    "admin_client.close()"
   ]
  }
 ],
 "metadata": {
  "kernelspec": {
   "display_name": ".venv",
   "language": "python",
   "name": "python3"
  },
  "language_info": {
   "codemirror_mode": {
    "name": "ipython",
    "version": 3
   },
   "file_extension": ".py",
   "mimetype": "text/x-python",
   "name": "python",
   "nbconvert_exporter": "python",
   "pygments_lexer": "ipython3",
   "version": "3.11.9"
  }
 },
 "nbformat": 4,
 "nbformat_minor": 2
}
