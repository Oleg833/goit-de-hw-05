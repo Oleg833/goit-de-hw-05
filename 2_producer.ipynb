{
 "cells": [
  {
   "cell_type": "code",
   "execution_count": null,
   "metadata": {},
   "outputs": [],
   "source": [
    "from kafka import KafkaProducer\n",
    "from configs import kafka_config\n",
    "import json\n",
    "import uuid\n",
    "import time\n",
    "import random\n",
    "\n",
    "# Створення Kafka Producer\n",
    "producer = KafkaProducer(\n",
    "    bootstrap_servers=kafka_config['bootstrap_servers'],\n",
    "    security_protocol=kafka_config['security_protocol'],\n",
    "    sasl_mechanism=kafka_config['sasl_mechanism'],\n",
    "    sasl_plain_username=kafka_config['username'],\n",
    "    sasl_plain_password=kafka_config['password'],\n",
    "    value_serializer=lambda v: json.dumps(v).encode('utf-8'),\n",
    "    key_serializer=lambda v: json.dumps(v).encode('utf-8')\n",
    ")\n",
    "\n",
    "# Назва топіку\n",
    "my_name = \"oleksiy7\"\n",
    "topic_name = f'{my_name}_topic_1'\n",
    "\n",
    "for i in range(30):\n",
    "    # Відправлення повідомлення в топік\n",
    "    try:\n",
    "        data = {\n",
    "            \"timestamp\": time.time(),  # Часова мітка\n",
    "            \"value\": random.randint(1, 100)  # Випадкове значення\n",
    "        }\n",
    "        producer.send(topic_name, key=str(uuid.uuid4()), value=data)\n",
    "        producer.flush()  # Очікування, поки всі повідомлення будуть відправлені\n",
    "        print(f\"Message {i} sent to topic '{topic_name}' successfully.\")\n",
    "        time.sleep(2)\n",
    "    except Exception as e:\n",
    "        print(f\"An error occurred: {e}\")\n",
    "\n",
    "producer.close()  # Закриття producer"
   ]
  }
 ],
 "metadata": {
  "kernelspec": {
   "display_name": ".venv",
   "language": "python",
   "name": "python3"
  },
  "language_info": {
   "codemirror_mode": {
    "name": "ipython",
    "version": 3
   },
   "file_extension": ".py",
   "mimetype": "text/x-python",
   "name": "python",
   "nbconvert_exporter": "python",
   "pygments_lexer": "ipython3",
   "version": "3.11.9"
  }
 },
 "nbformat": 4,
 "nbformat_minor": 2
}
