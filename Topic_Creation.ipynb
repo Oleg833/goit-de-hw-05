{
 "cells": [
  {
   "cell_type": "code",
   "execution_count": null,
   "metadata": {},
   "outputs": [],
   "source": [
    "from kafka.admin import KafkaAdminClient, NewTopic\n",
    "from configs import kafka_config\n",
    "\n",
    "# Створення клієнта Kafka\n",
    "admin_client = KafkaAdminClient(\n",
    "    bootstrap_servers=kafka_config[\"bootstrap_servers\"],\n",
    "    security_protocol=kafka_config[\"security_protocol\"],\n",
    "    sasl_mechanism=kafka_config[\"sasl_mechanism\"],\n",
    "    sasl_plain_username=kafka_config[\"username\"],\n",
    "    sasl_plain_password=kafka_config[\"password\"],\n",
    ")\n",
    "\n",
    "# Визначення нових топіків\n",
    "my_name = \"oleh\"\n",
    "\n",
    "building_sensors_topic = NewTopic(\n",
    "    name=f\"building_sensors_{my_name}\", num_partitions=3, replication_factor=1\n",
    ")\n",
    "temperature_alerts_topic = NewTopic(\n",
    "    name=f\"temperature_alerts_{my_name}\", num_partitions=2, replication_factor=1\n",
    ")\n",
    "humidity_alerts_topic = NewTopic(\n",
    "    name=f\"humidity_alerts_{my_name}\", num_partitions=2, replication_factor=1\n",
    ")\n",
    "\n",
    "# Створення нових топіків\n",
    "try:\n",
    "    admin_client.create_topics(\n",
    "        new_topics=[\n",
    "            building_sensors_topic,\n",
    "            temperature_alerts_topic,\n",
    "            humidity_alerts_topic,\n",
    "        ],\n",
    "        validate_only=False,\n",
    "    )\n",
    "    print(\n",
    "        \"Топіки 'building_sensors', 'temperature_alerts', 'humidity_alerts' створені успішно.\"\n",
    "    )\n",
    "except Exception as e:\n",
    "    print(f\"Сталася помилка: {e}\")\n",
    "\n",
    "# Перевіряємо список існуючих топіків\n",
    "print(admin_client.list_topics())\n",
    "\n",
    "# Закриття зв'язку з клієнтом\n",
    "admin_client.close()"
   ]
  }
 ],
 "metadata": {
  "language_info": {
   "name": "python"
  }
 },
 "nbformat": 4,
 "nbformat_minor": 2
}
