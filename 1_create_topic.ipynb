{
 "cells": [
  {
   "cell_type": "code",
   "execution_count": null,
   "metadata": {},
   "outputs": [],
   "source": [
    "!pip install kafka-python"
   ]
  },
  {
   "cell_type": "code",
   "execution_count": 2,
   "metadata": {},
   "outputs": [
    {
     "name": "stdout",
     "output_type": "stream",
     "text": [
      "An error occurred: [Error 36] TopicAlreadyExistsError: Request 'CreateTopicsRequest_v3(create_topic_requests=[(topic='oleksiy7_topic_1', num_partitions=3, replication_factor=1, replica_assignment=[], configs=[])], timeout=30000, validate_only=False)' failed with response 'CreateTopicsResponse_v3(throttle_time_ms=0, topic_errors=[(topic='oleksiy7_topic_1', error_code=36, error_message=\"Topic 'oleksiy7_topic_1' already exists.\")])'.\n",
      "['artur_home_humidity_alerts', 'building_sensors', 'oleksiy7_topic_1', 'artur_home_building_sensors', 'temperature_alerts_oleh', 'athlete_enriched_agg', 'humidity_alerts_oleh3', 'lesia999_humidity_alerts', 'oleksiy58_topic_1', 'veronika2_topic_1', 'sensor_alerts', 'Artur_topic_1_group', 'oleksiy_topic_1', 'oleksiy123_topic_1', 'lesiaukr_humidity_alerts', 'oleksiy57_topic_1', 'my_new_topic', 'artur_temperature_alerts', 'oleksandratk_temperature_alerts', 'lesia123_building_sensors', 'lesia_building_sensors', 'lesia999_building_sensors', 'oleksandratk_humidity_alerts', 'my_topic_1', 'building_sensors_oleksiy', 'building_sensors_oleh3', 'building_sensors_yevhenii_mentor', 'oleksandra-topic-1', 'oleksiy56_topic_1', 'avg_alerts', 'lesia999_temperature_alerts', 'veronika_topic_1', 'shop_123', '__consumer_offsets', 'lesia_topic_1', 'humidity_alerts_oleksiy', 'humidity_alerts_oleh', 'oleksiy55_topic_1', 'oleksiy_spark_streaming_in', 'temperature_alerts', 'building_sensors_oleh', 'lesia_humidity_alerts', 'temperature_alerts_oleh3', 'oleksiy_spark_streaming_out', 'humidity_alerts', 'lesia_temperature_alerts', 'artur_humidity_alerts', 'oleksandratk_building_sensors', 'lesia123_temperature_alerts', 'oleksiy67_topic_1', 'veronika1_topic_1', 'test_topic', 'Artur_test_group_topic_1', 'lesia123_humidity_alerts', 'Alex_topic_1', 'artur_topic_1', 'Artur_topic_1', 'lesiaukr_temperature_alerts', 'lesiaukr_building_sensors', 'artur_home_temperature_alerts', 'temperature_alerts_oleksiy', 'athlete_event_results']\n"
     ]
    }
   ],
   "source": [
    "from kafka.admin import KafkaAdminClient, NewTopic\n",
    "from configs import kafka_config\n",
    "\n",
    "# Створення клієнта Kafka\n",
    "admin_client = KafkaAdminClient(\n",
    "    bootstrap_servers=kafka_config[\"bootstrap_servers\"],\n",
    "    security_protocol=kafka_config[\"security_protocol\"],\n",
    "    sasl_mechanism=kafka_config[\"sasl_mechanism\"],\n",
    "    sasl_plain_username=kafka_config[\"username\"],\n",
    "    sasl_plain_password=kafka_config[\"password\"],\n",
    ")\n",
    "\n",
    "# Визначення нового топіку\n",
    "my_name = \"oleksiy7\"\n",
    "topic_name = f\"{my_name}_topic_1\"\n",
    "num_partitions = 3\n",
    "replication_factor = 1\n",
    "\n",
    "new_topic = NewTopic(\n",
    "    name=topic_name,\n",
    "    num_partitions=num_partitions,\n",
    "    replication_factor=replication_factor,\n",
    ")\n",
    "\n",
    "# Створення нового топіку\n",
    "try:\n",
    "    admin_client.create_topics(new_topics=[new_topic], validate_only=False)\n",
    "    print(f\"Topic '{topic_name}' created successfully.\")\n",
    "except Exception as e:\n",
    "    print(f\"An error occurred: {e}\")\n",
    "\n",
    "# Перевіряємо список існуючих топіків\n",
    "print(admin_client.list_topics())\n",
    "\n",
    "# Закриття зв'язку з клієнтом\n",
    "admin_client.close()"
   ]
  }
 ],
 "metadata": {
  "kernelspec": {
   "display_name": ".venv",
   "language": "python",
   "name": "python3"
  },
  "language_info": {
   "codemirror_mode": {
    "name": "ipython",
    "version": 3
   },
   "file_extension": ".py",
   "mimetype": "text/x-python",
   "name": "python",
   "nbconvert_exporter": "python",
   "pygments_lexer": "ipython3",
   "version": "3.11.9"
  }
 },
 "nbformat": 4,
 "nbformat_minor": 2
}
