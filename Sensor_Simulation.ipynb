{
 "cells": [
  {
   "cell_type": "code",
   "execution_count": null,
   "metadata": {},
   "outputs": [],
   "source": [
    "import time\n",
    "import random\n",
    "import json\n",
    "import uuid\n",
    "from kafka import KafkaProducer\n",
    "from datetime import datetime\n",
    "\n",
    "# Налаштування Kafka\n",
    "BROKER = \"localhost:9092\"\n",
    "TOPIC = \"building_sensors_your_name\"  # Замініть 'your_name' на ваш ідентифікатор\n",
    "\n",
    "# Ініціалізація продюсера Kafka\n",
    "producer = KafkaProducer(\n",
    "    bootstrap_servers=BROKER, value_serializer=lambda v: json.dumps(v).encode(\"utf-8\")\n",
    ")\n",
    "\n",
    "# Випадковий ID датчика для одного запуску скрипту\n",
    "sensor_id = str(uuid.uuid4())\n",
    "\n",
    "try:\n",
    "    while True:\n",
    "        # Генерація випадкових даних температури та вологості\n",
    "        temperature = round(\n",
    "            random.uniform(15.0, 30.0), 2\n",
    "        )  # Температура в межах 15-30 °C\n",
    "        humidity = round(random.uniform(30.0, 70.0), 2)  # Вологість в межах 30-70 %\n",
    "        timestamp = datetime.utcnow().isoformat()\n",
    "\n",
    "        # Формування повідомлення\n",
    "        data = {\n",
    "            \"sensor_id\": sensor_id,\n",
    "            \"timestamp\": timestamp,\n",
    "            \"temperature\": temperature,\n",
    "            \"humidity\": humidity,\n",
    "        }\n",
    "\n",
    "        # Відправка даних до топіку Kafka\n",
    "        producer.send(TOPIC, value=data)\n",
    "        print(f\"Відправлено дані: {data}\")\n",
    "\n",
    "        # Затримка перед наступним повідомленням\n",
    "        time.sleep(5)\n",
    "\n",
    "except KeyboardInterrupt:\n",
    "    print(\"Завершення роботи скрипту...\")\n",
    "finally:\n",
    "    producer.close()"
   ]
  }
 ],
 "metadata": {
  "language_info": {
   "name": "python"
  }
 },
 "nbformat": 4,
 "nbformat_minor": 2
}
